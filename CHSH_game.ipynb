{
 "cells": [
  {
   "cell_type": "markdown",
   "id": "e6e7a13c-8891-4a0c-8ba9-1aabad8291d3",
   "metadata": {},
   "source": [
    "### CHSH GAME on Cirq"
   ]
  },
  {
   "cell_type": "code",
   "execution_count": 140,
   "id": "cca7cc20-2e95-4a7b-a655-ab82f274365d",
   "metadata": {},
   "outputs": [],
   "source": [
    "from matplotlib import pyplot as plt\n",
    "import numpy\n",
    "import cirq"
   ]
  },
  {
   "cell_type": "code",
   "execution_count": 141,
   "id": "0027ef42-0e03-4838-bafa-b02742dfad0b",
   "metadata": {},
   "outputs": [],
   "source": [
    "# The mothed below generates the quantum circuit for Alice&Bob that depend on Charlie x and y.\n",
    "\n",
    "def alice_bob_circuit(x, y):\n",
    "    print(f'Charlie sends to Alice:{x}, Bob:{y}')\n",
    "    \n",
    "    circuit = cirq.Circuit()\n",
    "    alice_qubit, bob_qubit = cirq.LineQubit.range(2)\n",
    "    circuit.append(cirq.H(alice_qubit))\n",
    "    circuit.append(cirq.CNOT(alice_qubit, bob_qubit))\n",
    "    \n",
    "    if x == 0 and y == 0:\n",
    "        a, b = 0.0, -numpy.pi/4\n",
    "    elif x == 0 and y == 1:\n",
    "        a, b = 0.0, numpy.pi/4\n",
    "    elif x == 1 and y == 0:\n",
    "        a, b = -numpy.pi/2, -numpy.pi/4\n",
    "    else:\n",
    "        a, b = -numpy.pi/2, numpy.pi/4\n",
    "\n",
    "    circuit.append(cirq.Ry(rads=a)(alice_qubit))\n",
    "    circuit.append(cirq.Ry(rads=b)(bob_qubit))\n",
    "    circuit.append(cirq.measure(alice_qubit, bob_qubit))\n",
    "    print(f'{circuit}\\n')\n",
    "    return circuit"
   ]
  },
  {
   "cell_type": "code",
   "execution_count": 142,
   "id": "b3e53696-6ee2-4afa-82c5-1c107d092f06",
   "metadata": {},
   "outputs": [
    {
     "name": "stdout",
     "output_type": "stream",
     "text": [
      "Charlie sends to Alice:0, Bob:0\n",
      "0: ───H───@───Ry(0)────────M───\n",
      "          │                │\n",
      "1: ───────X───Ry(-0.25π)───M───\n",
      "\n",
      "Charlie sends to Alice:0, Bob:1\n",
      "0: ───H───@───Ry(0)───────M───\n",
      "          │               │\n",
      "1: ───────X───Ry(0.25π)───M───\n",
      "\n",
      "Charlie sends to Alice:1, Bob:0\n",
      "0: ───H───@───Ry(-0.5π)────M───\n",
      "          │                │\n",
      "1: ───────X───Ry(-0.25π)───M───\n",
      "\n",
      "Charlie sends to Alice:1, Bob:1\n",
      "0: ───H───@───Ry(-0.5π)───M───\n",
      "          │               │\n",
      "1: ───────X───Ry(0.25π)───M───\n",
      "\n"
     ]
    }
   ],
   "source": [
    "circuits = []\n",
    "circuit_00 = alice_bob_circuit(0, 0)\n",
    "circuit_01 = alice_bob_circuit(0, 1)\n",
    "circuit_10 = alice_bob_circuit(1, 0)\n",
    "circuit_11 = alice_bob_circuit(1, 1)\n",
    "circuits.append(circuit_00)\n",
    "circuits.append(circuit_10)\n",
    "circuits.append(circuit_01)\n",
    "circuits.append(circuit_11)"
   ]
  },
  {
   "cell_type": "code",
   "execution_count": 145,
   "id": "2e7a71ee-b75a-4c88-b6a4-82f1c0a43506",
   "metadata": {},
   "outputs": [
    {
     "data": {
      "image/png": "[encoded data removed]",
      "text/plain": [
       "<Figure size 1152x648 with 4 Axes>"
      ]
     },
     "metadata": {
      "needs_background": "light"
     },
     "output_type": "display_data"
    },
    {
     "name": "stdout",
     "output_type": "stream",
     "text": [
      "S Critic value: 2.843\n"
     ]
    }
   ],
   "source": [
    "rep=20000\n",
    "\n",
    "fig, axs = plt.subplots(2, 2)\n",
    "fig.suptitle('Measurement results')\n",
    "fig.set_size_inches(16, 9)\n",
    "total = 0.0\n",
    "\n",
    "for i in range(circuits.__len__()):\n",
    "    res = cirq.Simulator().run(circuits[i], repetitions=rep)\n",
    "    data = cirq.get_state_histogram(res)\n",
    "    norm_data = data / rep\n",
    "    _ = cirq.plot_state_histogram(norm_data, axs[int(i / 2)][i % 2], ylabel='Alice&Bob win probabilty')\n",
    "    \n",
    "    axs[int(i / 2)][i % 2].set_title(f'{i:02b}')\n",
    "    \n",
    "    ab_is_zero_probabity = (data[0]+data[3])/rep\n",
    "    ab_is_one_probabity = (data[1]+data[2])/rep\n",
    "    \n",
    "    total += abs(ab_is_zero_probabity-ab_is_one_probabity)\n",
    "    \n",
    "plt.subplots_adjust(wspace=0.5, hspace=0.5)\n",
    "plt.show()\n",
    "\n",
    "print(f'S Critic value: {total}')"
   ]
  },
  {
   "cell_type": "code",
   "execution_count": null,
   "id": "e9f528d6-d1d5-4d25-bea5-7a9eb751c775",
   "metadata": {},
   "outputs": [],
   "source": []
  }
 ],
 "metadata": {
  "kernelspec": {
   "display_name": "Python 3",
   "language": "python",
   "name": "python3"
  },
  "language_info": {
   "codemirror_mode": {
    "name": "ipython",
    "version": 3
   },
   "file_extension": ".py",
   "mimetype": "text/x-python",
   "name": "python",
   "nbconvert_exporter": "python",
   "pygments_lexer": "ipython3",
   "version": "3.8.5"
  }
 },
 "nbformat": 4,
 "nbformat_minor": 5
}
